{
 "cells": [
  {
   "cell_type": "markdown",
   "metadata": {},
   "source": [
    "# 一、数据清洗"
   ]
  },
  {
   "cell_type": "markdown",
   "metadata": {},
   "source": [
    "## 1、载入数据\n",
    "- data_train = pd.read_csv('./train_data.csv')\n",
    "- data_test = pd.read_csv('./test_a.csv')"
   ]
  },
  {
   "cell_type": "markdown",
   "metadata": {},
   "source": [
    "## 2、异常值处理\n",
    "**丢弃部分异常值：'area' > 200、'tradeMoney' < 700、'tradeMoney' > 16000、'totalFloor' = 0**"
   ]
  },
  {
   "cell_type": "markdown",
   "metadata": {},
   "source": [
    "## 3、缺失值处理、数据变换\n",
    "**'rentType' = 无，填充为未知方式**<br>\n",
    "**'rentType'、'houseFloor'、'houseToward'、'houseDecoration'、'communityName'、'plate'列转换数据类型，使用标签编码**<br>\n",
    "**将'buildYear'列转换为整型数据**<br>\n",
    "**将'pv'、'uv'的空值填充为平均值**<br>\n"
   ]
  },
  {
   "cell_type": "markdown",
   "metadata": {},
   "source": [
    "## 4、数据深度清洗\n",
    "- data.drop(data[(data['region']=='RG00001') & (data['tradeMoney']<1000)&(data['area']>50)].index,inplace=True)<br>\n",
    "- data.drop(data[(data['region']=='RG00001') & (data['tradeMoney']>25000)].index,inplace=True)<br>\n",
    "......"
   ]
  },
  {
   "cell_type": "markdown",
   "metadata": {},
   "source": [
    "## 5、特征拆分\n",
    "**'tradeTime'分割为'month'、'day'**<br>\n",
    "**'houseType'分割为'Room'、'Hall'、'Bath'**<br>"
   ]
  },
  {
   "cell_type": "markdown",
   "metadata": {},
   "source": [
    "## 6、交叉生成特征\n",
    "**'Room'、'Bath'生成'Room_Bath'**<br>"
   ]
  },
  {
   "cell_type": "markdown",
   "metadata": {},
   "source": [
    "## 7、特征合并 \n",
    "- data['transportNum'] = 5 * data['subwayStationNum'] / data['subwayStationNum'].mean() + data['busStationNum'] / data['busStationNum'].mean()\n",
    "- data['all_SchoolNum'] = 2 * data['interSchoolNum'] / data['interSchoolNum'].mean() + data['schoolNum'] / data['schoolNum'].mean() + data['privateSchoolNum'] / data['privateSchoolNum'].mean()\n",
    "- data['all_hospitalNum'] = 2 * data['hospitalNum'] / data['hospitalNum'].mean() + data['drugStoreNum'] / data['drugStoreNum'].mean()\n",
    "- data['all_mall'] = data['mallNum'] / data['mallNum'].mean() + data['superMarketNum'] / data['superMarketNum'].mean()\n",
    "- data['otherNum'] = data['gymNum'] / data['gymNum'].mean() + data['bankNum'] / data['bankNum'].mean() + \\data['shopNum'] / data['shopNum'].mean() + 2 * data['parkNum'] / data['parkNum'].mean()<br>\n",
    "......"
   ]
  },
  {
   "cell_type": "markdown",
   "metadata": {},
   "source": [
    "## 8、groupby生成统计特征：mean, std等\n",
    "- temp = data.groupby('plate')['transportNum'].agg('sum').reset_index(name='plate_trainsportNum')\n",
    "- data = data.merge(temp, on='plate', how='left')\n",
    "- temp = data.groupby(['communityName', 'plate'])['transportNum'].agg('sum').reset_index(name='com_trainsportNum')\n",
    "- data = data.merge(temp, on=['communityName', 'plate'], how='left')\n",
    "- data['trainsportNum_ratio'] = list(map(lambda x, y: round(x / y, 3) if y != 0 else -1,data['com_trainsportNum'],data['plate_trainsportNum']))\n",
    "- data = data.drop(['com_trainsportNum', 'plate_trainsportNum'], axis=1)<br>\n",
    "......"
   ]
  },
  {
   "cell_type": "markdown",
   "metadata": {},
   "source": [
    "# 二、特征选择"
   ]
  },
  {
   "cell_type": "markdown",
   "metadata": {},
   "source": [
    "### Filter\n",
    "去掉取值变化小的特征（Removing features with low variance）\n",
    "单变量特征选择 (Univariate feature selection)\n",
    "### Wrapper\n",
    "递归特征消除 (Recursive Feature Elimination)\n",
    "### Embedding\n",
    "使用SelectFromModel选择特征 (Feature selection using SelectFromModel)\n",
    "将特征选择过程融入pipeline (Feature selection as part of a pipeline)"
   ]
  },
  {
   "cell_type": "markdown",
   "metadata": {},
   "source": [
    "**训练随机森林模型，并通过feature_importances_属性获取每个特征的重要性分数。rf = RandomForestRegressor()**<br>\n",
    "- from sklearn.ensemble import RandomForestRegressor\n",
    "- rf = RandomForestRegressor()\n",
    "- drop_feature = ['rentType', 'newWorkers', 'tradeLandNum', 'tradeLandArea', 'supplyLandArea', 'region', 'landMeanPrice', 'supplyLandNum', 'landTotalPrice']<br>\n"
   ]
  },
  {
   "cell_type": "markdown",
   "metadata": {},
   "source": [
    "# 三、模型选择\n",
    "### lasso、ENet、ridge、KRR、GBoost、xgb、lgb"
   ]
  },
  {
   "cell_type": "code",
   "execution_count": null,
   "metadata": {},
   "outputs": [],
   "source": [
    "kfolds = KFold(n_splits=n_folds, shuffle=True, random_state=42)\n",
    "alph = [0.01, 0.001, 0.0001, 0.0002, 0.0004, 0.0008, 0.002, 0.004, 0.008, 1, 2, 4, 6, 8, 10, 12]\n",
    "alph2 = [1, 2, 3, 4, 5, 6, 7, 8, 9, 10, 11, 12, 13, 14]\n",
    "lasso = make_pipeline(RobustScaler(), LassoCV(alphas=alph, cv=kfolds, random_state=1))\n",
    "ENet = make_pipeline(RobustScaler(), ElasticNetCV(alphas=alph, l1_ratio=.9, cv=kfolds, random_state=3))\n",
    "ridge = make_pipeline(RobustScaler(), RidgeCV(alphas=alph2, cv=kfolds))\n",
    "KRR = KernelRidge(alpha=0.6, kernel='polynomial', degree=2, coef0=2.5)\n",
    "\n",
    "GBoost = GradientBoostingRegressor(n_estimators=3000, learning_rate=0.05,\n",
    "                                   max_depth=4, max_features='sqrt',\n",
    "                                   min_samples_leaf=15, min_samples_split=10,\n",
    "                                   loss='huber', random_state=5)\n",
    "\n",
    "model_xgb = xgb.XGBRegressor(colsample_bytree=0.4603, gamma=0.0468,\n",
    "                             learning_rate=0.05, max_depth=3,\n",
    "                             min_child_weight=2, n_estimators=2200,\n",
    "                             reg_alpha=0.4640, reg_lambda=0.8571,\n",
    "                             subsample=0.5213, silent=True,\n",
    "                             random_state=7, nthread=-1)\n",
    "\n",
    "model_lgb = lgb.LGBMRegressor(objective='regression', num_leaves=5,\n",
    "                              learning_rate=0.05, n_estimators=720,\n",
    "                              max_bin=55, bagging_fraction=0.8,\n",
    "                              bagging_freq=5, feature_fraction=0.2319,\n",
    "                              feature_fraction_seed=9, bagging_seed=9,\n",
    "                              min_data_in_leaf=6, min_sum_hessian_in_leaf=11)"
   ]
  },
  {
   "attachments": {
    "image.png": {
     "image/png": "[encoded data removed]"
    }
   },
   "cell_type": "markdown",
   "metadata": {},
   "source": [
    "![image.png](attachment:image.png)"
   ]
  },
  {
   "cell_type": "markdown",
   "metadata": {},
   "source": [
    "**将特征排序，保留前15个特征，删除无用特征**<br>\n",
    "- drop_num = 15\n",
    "- lgb_out = lgb_out[:drop_num]\n",
    "- xgb_out = xgb_out[:drop_num]\n",
    "- gbt_out = gbt_out[:drop_num]\n",
    "- **drop_feature = list(set(lgb_out).union(xgb_out).union(gbt_out))**"
   ]
  },
  {
   "cell_type": "markdown",
   "metadata": {},
   "source": [
    "# 四、模型融合\n",
    "### 融合ENet, GBoost, KRR, xgb, lgb模型"
   ]
  },
  {
   "cell_type": "markdown",
   "metadata": {},
   "source": [
    "- **stacked_averaged_models = StackingCVRegressor(regressors=(ENet, GBoost, KRR), meta_regressor=lasso, use_features_in_secondary=True)**\n",
    "- stacked_averaged_models.fit(train, y_train)\n",
    "- stacked_train_pred = stacked_averaged_models.predict(train)\n",
    "- stacked_pred = np.expm1(stacked_averaged_models.predict(test))\n",
    "- print('stacked_averaged_models RMSLE:')\n",
    "- print(rmsle(y_train, stacked_train_pred))<p>\n",
    "\n",
    "- model_xgb.fit(train, y_train)\n",
    "- model_lgb.fit(train, y_train)\n",
    "- xgb_pred = np.expm1(model_xgb.predict(test))\n",
    "- lgb_pred = np.expm1(model_lgb.predict(test))\n",
    "- print('0.7stacked + 0.15xgb + 0.15lgb RMSLE:')\n",
    "- **print(rmsle(y_train, stacked_train_pred * 0.7 + xgb_train_pred * 0.15 + lgb_train_pred * 0.15))**"
   ]
  },
  {
   "cell_type": "markdown",
   "metadata": {},
   "source": []
  },
  {
   "cell_type": "markdown",
   "metadata": {},
   "source": []
  },
  {
   "cell_type": "markdown",
   "metadata": {},
   "source": []
  }
 ],
 "metadata": {
  "kernelspec": {
   "display_name": "Python 3",
   "language": "python",
   "name": "python3"
  },
  "language_info": {
   "codemirror_mode": {
    "name": "ipython",
    "version": 3
   },
   "file_extension": ".py",
   "mimetype": "text/x-python",
   "name": "python",
   "nbconvert_exporter": "python",
   "pygments_lexer": "ipython3",
   "version": "3.7.4"
  }
 },
 "nbformat": 4,
 "nbformat_minor": 2
}
