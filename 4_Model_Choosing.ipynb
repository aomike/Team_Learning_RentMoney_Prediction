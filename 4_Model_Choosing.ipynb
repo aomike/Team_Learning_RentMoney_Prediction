{
 "cells": [
  {
   "cell_type": "markdown",
   "metadata": {},
   "source": [
    "#  任务4 模型选择(3天)"
   ]
  },
  {
   "cell_type": "markdown",
   "metadata": {},
   "source": [
    "# 以lightGBM为例"
   ]
  },
  {
   "cell_type": "code",
   "execution_count": 2,
   "metadata": {
    "ExecuteTime": {
     "end_time": "2020-01-15T15:48:44.254791Z",
     "start_time": "2020-01-15T15:48:43.517210Z"
    }
   },
   "outputs": [],
   "source": [
    "#coding:utf-8\n",
    "#导入warnings包，利用过滤器来实现忽略警告语句。\n",
    "import warnings\n",
    "warnings.filterwarnings('ignore')\n",
    "\n",
    "# GBDT\n",
    "from sklearn.ensemble import GradientBoostingRegressor\n",
    "# XGBoost\n",
    "import xgboost as xgb\n",
    "# LightGBM\n",
    "import lightgbm as lgb\n",
    "\n",
    "import pandas as pd\n",
    "import numpy as np\n",
    "import matplotlib.pyplot as plt\n",
    "import seaborn as sns\n",
    "from sklearn.model_selection import KFold\n",
    "from sklearn.metrics import r2_score\n",
    "from sklearn.preprocessing import LabelEncoder\n",
    "import pickle\n",
    "import multiprocessing\n",
    "from sklearn.preprocessing import StandardScaler\n",
    "ss = StandardScaler() \n",
    "from sklearn.model_selection import StratifiedKFold\n",
    "from sklearn.linear_model import ElasticNet, Lasso,  BayesianRidge, LassoLarsIC,LinearRegression,LogisticRegression\n",
    "from sklearn.pipeline import make_pipeline\n",
    "from sklearn.preprocessing import RobustScaler\n",
    "from sklearn.model_selection import train_test_split\n",
    "from sklearn.ensemble import IsolationForest\n",
    "\n",
    "from IPython.core.interactiveshell import InteractiveShell\n",
    "InteractiveShell.ast_node_interactivity = \"all\" "
   ]
  },
  {
   "cell_type": "code",
   "execution_count": 36,
   "metadata": {
    "ExecuteTime": {
     "end_time": "2020-01-15T16:08:24.511621Z",
     "start_time": "2020-01-15T16:08:24.101662Z"
    }
   },
   "outputs": [],
   "source": [
    "train_df = pd.read_csv('/home/cc/holdshy/XJQ/数据竞赛（房租预测）/train_data(featured).csv', index_col=0)\n",
    "test_df = pd.read_csv('/home/cc/holdshy/XJQ/数据竞赛（房租预测）/test_a(cleared).csv', index_col=0)\n",
    "# test = pd.read_csv('/home/cc/holdshy/XJQ/数据竞赛（房租预测）/test_a.csv')\n",
    "# train_df.columns\n",
    "# test.columns\n",
    "# test_df.to_csv('/home/cc/holdshy/XJQ/数据竞赛（房租预测）/test_a(cleared).csv')"
   ]
  },
  {
   "cell_type": "code",
   "execution_count": null,
   "metadata": {
    "ExecuteTime": {
     "start_time": "2020-01-15T16:27:11.431Z"
    }
   },
   "outputs": [],
   "source": [
    "# train_df.loc[:,'RoomDir']=LabelEncoder().fit_transform(train_df.loc[:,'RoomDir'])\n",
    "# test_df.loc[:,'RoomDir']=LabelEncoder().fit_transform(test_df.loc[:,'RoomDir'])\n",
    "\n",
    "X_train = train_df.drop(['tradeMoney'],axis=1)\n",
    "Y_train = train_df.loc[:,'tradeMoney']\n",
    "X_test = test_df.drop(['ID'],axis=1)\n",
    "test_id = test_df.loc[:,'ID']\n",
    "\n",
    "xgb_reg = xgb.XGBRegressor(colsample_bytree=0.4603, gamma=0.0468,\n",
    "                             learning_rate=0.05, max_depth=3,\n",
    "                             min_child_weight=2, n_estimators=2200,\n",
    "                             reg_alpha=0.4640, reg_lambda=0.8571,\n",
    "                             subsample=0.5213, silent=True,\n",
    "                             random_state=7, nthread=-1)\n",
    "xgb_reg.fit(X_train,Y_train)\n",
    "Y_pred = xgb_reg.predict(X_test)\n",
    "\n",
    "sub = pd.DataFrame({\n",
    "    'id':test_id,\n",
    "    'price':Y_pred\n",
    "})\n",
    "sub.to_csv('/home/cc/holdshy/XJQ/数据竞赛（房租预测）/baseline.csv',index=False)    #baseline：2.554\n"
   ]
  },
  {
   "cell_type": "code",
   "execution_count": null,
   "metadata": {},
   "outputs": [],
   "source": [
    "def xgb_eval(train_df,val_df):\n",
    "    train_df=train_df.copy()\n",
    "    val_df=val_df.copy()\n",
    "\n",
    "    try:\n",
    "        from sklearn.preprocessing import LabelEncoder\n",
    "        lb_encoder=LabelEncoder()\n",
    "        lb_encoder.fit(train_df.loc[:,'RoomDir'].append(val_df.loc[:,'RoomDir']))\n",
    "        train_df.loc[:,'RoomDir']=lb_encoder.transform(train_df.loc[:,'RoomDir'])\n",
    "        val_df.loc[:,'RoomDir']=lb_encoder.transform(val_df.loc[:,'RoomDir'])\n",
    "    except Exception as e:\n",
    "        print(e)\n",
    "\n",
    "    import xgboost as xgb\n",
    "    X_train=train_df.drop(['Rental'],axis=1)\n",
    "    Y_train=train_df.loc[:,'Rental'].values\n",
    "    X_val=val_df.drop(['Rental'],axis=1)\n",
    "    Y_val=val_df.loc[:,'Rental'].values\n",
    "\n",
    "    from sklearn.metrics import mean_squared_error\n",
    "\n",
    "    try:\n",
    "        eval_df=val_df.copy().drop('Time',axis=1)\n",
    "    except Exception as e:\n",
    "        eval_df=val_df.copy()\n",
    "\n",
    "    reg_model=xgb.XGBRegressor(max_depth=5,n_estimators=500,n_jobs=-1)\n",
    "    reg_model.fit(X_train,Y_train)\n",
    "\n",
    "    y_pred=reg_model.predict(X_val)\n",
    "    print(np.sqrt(mean_squared_error(Y_val,y_pred)),end=' ')\n",
    "\n",
    "    eval_df.loc[:,'Y_pred']=y_pred\n",
    "    eval_df.loc[:,'RE']=eval_df.loc[:,'Y_pred']-eval_df.loc[:,'Rental']\n",
    "    \n",
    "    print('')\n",
    "    feature=X_train.columns\n",
    "    fe_im=reg_model.feature_importances_\n",
    "    print(pd.DataFrame({'fe':feature,'im':fe_im}).sort_values(by='im',ascending=False))\n",
    "\n",
    "    import matplotlib.pyplot as plt\n",
    "    plt.clf()\n",
    "    plt.figure(figsize=(15,4))\n",
    "    plt.plot([Y_train.min(),Y_train.max()],[0,0],color='red')\n",
    "    plt.scatter(x=eval_df.loc[:,'Rental'],y=eval_df.loc[:,'RE'])\n",
    "    plt.show()\n",
    "\n",
    "    return eval_df\n"
   ]
  },
  {
   "cell_type": "code",
   "execution_count": null,
   "metadata": {
    "ExecuteTime": {
     "end_time": "2019-12-24T13:53:49.093200Z",
     "start_time": "2019-12-24T13:53:43.498159Z"
    }
   },
   "outputs": [],
   "source": []
  },
  {
   "cell_type": "code",
   "execution_count": null,
   "metadata": {},
   "outputs": [],
   "source": []
  }
 ],
 "metadata": {
  "hide_input": false,
  "kernelspec": {
   "display_name": "Python 3",
   "language": "python",
   "name": "python3"
  },
  "language_info": {
   "codemirror_mode": {
    "name": "ipython",
    "version": 3
   },
   "file_extension": ".py",
   "mimetype": "text/x-python",
   "name": "python",
   "nbconvert_exporter": "python",
   "pygments_lexer": "ipython3",
   "version": "3.6.9"
  },
  "toc": {
   "base_numbering": 1,
   "nav_menu": {},
   "number_sections": true,
   "sideBar": true,
   "skip_h1_title": false,
   "title_cell": "Table of Contents",
   "title_sidebar": "Contents",
   "toc_cell": false,
   "toc_position": {},
   "toc_section_display": true,
   "toc_window_display": true
  },
  "varInspector": {
   "cols": {
    "lenName": 16,
    "lenType": 16,
    "lenVar": 40
   },
   "kernels_config": {
    "python": {
     "delete_cmd_postfix": "",
     "delete_cmd_prefix": "del ",
     "library": "var_list.py",
     "varRefreshCmd": "print(var_dic_list())"
    },
    "r": {
     "delete_cmd_postfix": ") ",
     "delete_cmd_prefix": "rm(",
     "library": "var_list.r",
     "varRefreshCmd": "cat(var_dic_list()) "
    }
   },
   "types_to_exclude": [
    "module",
    "function",
    "builtin_function_or_method",
    "instance",
    "_Feature"
   ],
   "window_display": false
  }
 },
 "nbformat": 4,
 "nbformat_minor": 2
}
