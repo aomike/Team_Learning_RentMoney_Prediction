{
 "cells": [
  {
   "cell_type": "markdown",
   "metadata": {},
   "source": [
    "# 任务1 赛题分析(2天)\n"
   ]
  },
  {
   "cell_type": "markdown",
   "metadata": {
    "id": "624CF51534074BF68805A8839EE29746",
    "mdEditEnable": false,
    "slideshow": {
     "slide_type": "slide"
    },
    "tags": []
   },
   "source": [
    "# 1. 赛题分析\n",
    "比赛要求参赛选手根据给定的数据集，建立模型，预测房屋租金。  \n",
    "数据集中的数据类别包括租赁房源、小区、二手房、配套、新房、土地、人口、客户、真实租金等。  \n",
    "这是典型的回归预测。  \n",
    "  \n",
    "## 预测指标\n",
    "#### 回归结果评价标准采用R-Square\n",
    "**R2（R-Square）的公式为**：\n",
    "残差平方和：\n",
    "$$\n",
    "SS_{res}=\\sum\\left(y_{i}-\\hat{y}_{i}\\right)^{2}\n",
    "$$\n",
    "总平均值:\n",
    "$$\n",
    "SS_{tot}=\\sum\\left(y_{i}-\\overline{y}_{i}\\right)^{2}\n",
    "$$\n",
    "\n",
    "其中$\\overline{y}$表示$y$的平均值\n",
    "得到$R^2$表达式为：\n",
    "$$\n",
    "R^{2}=1-\\frac{SS_{res}}{SS_{tot}}=1-\\frac{\\sum\\left(y_{i}-\\hat{y}_{i}\\right)^{2}}{\\sum\\left(y_{i}-\\overline{y}\\right)^{2}}\n",
    "$$\n",
    "$R^2$用于度量因变量的变异中可由自变量解释部分所占的比例，取值范围是 0~1，$R^2$越接近1,表明回归平方和占总平方和的比例越大,回归线与各观测点越接近，用x的变化来解释y值变化的部分就越多,回归的拟合程度就越好。所以$R^2$也称为拟合优度（Goodness of Fit）的统计量。\n",
    "\n",
    "$y_{i}$表示真实值，$\\hat{y}_{i}$表示预测值，$\\overline{y}_{i}$表示样本均值。得分越高拟合效果越好。\n",
    "  \n",
    "  \n",
    "## 数据概况\n",
    "\n",
    "**1.租赁基本信息：**\n",
    "* ID——房屋编号　　　　　　　　　　　　　　　　　　\n",
    "* area——房屋面积 　　　\n",
    "* rentType——出租方式：整租/合租/未知　\n",
    "* houseType——房型 　　　　　　　　　\n",
    "* houseFloor——房间所在楼层：高/中/低　　　　　\n",
    "* totalFloor——房间所在的总楼层数　　　　　　　　\n",
    "* houseToward——房间朝向　　　　　　　　　　　\n",
    "* houseDecoration——房屋装修　\n",
    "\n",
    "* tradeTime——成交日期　　　　　　　　　　　　　　　\n",
    "* tradeMoney——成交租金　\n",
    "\n",
    "**2.小区信息：**\n",
    "* CommunityName——小区名称　　　　　　　　\n",
    "* city——城市　　　　　　　　　　　　　　　　　\n",
    "* region——地区　　　　　　　　　　　　　　　\n",
    "* plate——区域板块　　　　　　　　　　　　　　\n",
    "* buildYear——小区建筑年代　　　　　　　　　　\n",
    "* saleSecHouseNum——该板块当月二手房挂牌房源数　　　\n",
    "\n",
    "**3.配套设施：**\n",
    "* subwayStationNum——该板块地铁站数量　　　　　　　\n",
    "* busStationNum——该板块公交站数量　　　　　　　　　\n",
    "* interSchoolNum——该板块国际学校的数量　　　　　　\n",
    "* schoolNum——该板块公立学校的数量　　　　　　　　\n",
    "* privateSchoolNum——该板块私立学校数量　　　　　\n",
    "* hospitalNum——该板块综合医院数量　　　　　　　　　\n",
    "* DrugStoreNum——该板块药房数量　　　　　　　　\n",
    "* gymNum——该板块健身中心数量　　　　　　　　　　\n",
    "* bankNum——该板块银行数量　　　　　　　　　　　\n",
    "* shopNum——该板块商店数量　　　　　　　　　　　\n",
    "* parkNum——该板块公园数量　　　　　　　　　　　\n",
    "* mallNum——该板块购物中心数量　　　　　　　　　\n",
    "* superMarketNum——该板块超市数量　　　　　　　\n",
    "\n",
    "**4.其他信息：**\n",
    "* totalTradeMoney——该板块当月二手房成交总金额　　　\n",
    "* totalTradeArea——该板块二手房成交总面积　　　　　　\n",
    "* tradeMeanPrice——该板块二手房成交均价　　　　　　　\n",
    "* tradeSecNum——该板块当月二手房成交套数　　　　　\n",
    "\n",
    "* totalNewTradeMoney——该板块当月新房成交总金额　　　\n",
    "* totalNewTradeArea——该板块当月新房成交的总面积　　　\n",
    "* totalNewMeanPrice——该板块当月新房成交均价　　　　　\n",
    "* tradeNewNum——该板块当月新房成交套数　　　　　　　　\n",
    "* remainNewNum——该板块当月新房未成交套数　　　　　　\n",
    "* supplyNewNum——该板块当月新房供应套数　　　　　　　\n",
    "\n",
    "* supplyLandNum——该板块当月土地供应幅数　　　　　 \n",
    "* supplyLandArea——该板块当月土地供应面积　　　　　\n",
    "* tradeLandNum——该板块当月土地成交幅数　　　　　　\n",
    "* tradeLandArea——该板块当月土地成交面积　　　　　 \n",
    "* landTotalPrice——该板块当月土地成交总价　　　　　\n",
    "* landMeanPrice——该板块当月楼板价(元/m^{2})　　　\n",
    "\n",
    "* totalWorkers——当前板块现有的办公人数　　　　　　　\n",
    "* newWorkers——该板块当月流入人口数（现招聘的人员）　\n",
    "* residentPopulation——该板块常住人口　　　　　　　　\n",
    "\n",
    "* pv——该板块当月租客浏览网页次数　　　　　　　　　　　\n",
    "* uv——该板块当月租客浏览网页总人数　　　　　　　　　　\n",
    "* lookNum——线下看房次数　　　　　　　　　　　　　　　\n",
    "　　　　\n"
   ]
  },
  {
   "cell_type": "markdown",
   "metadata": {},
   "source": [
    "## 导入库"
   ]
  },
  {
   "cell_type": "code",
   "execution_count": 1,
   "metadata": {
    "ExecuteTime": {
     "end_time": "2020-01-07T10:44:18.651983Z",
     "start_time": "2020-01-07T10:44:16.164415Z"
    },
    "id": "EDF9B091264C42AF8FD7A283FCBAEFBA",
    "jupyter": {
     "outputs_hidden": false
    },
    "mdEditEnable": false,
    "slideshow": {
     "slide_type": "slide"
    },
    "tags": []
   },
   "outputs": [],
   "source": [
    "#coding:utf-8\n",
    "#导入warnings包，利用过滤器来实现忽略警告语句。\n",
    "import warnings\n",
    "warnings.filterwarnings('ignore')\n",
    "\n",
    "# # GBDT\n",
    "# from sklearn.ensemble import GradientBoostingRegressor\n",
    "# # XGBoost\n",
    "# import xgboost as xgb\n",
    "# # LightGBM\n",
    "# import lightgbm as lgb\n",
    "\n",
    "import pandas as pd\n",
    "import numpy as np\n",
    "import matplotlib.pyplot as plt\n",
    "import seaborn as sns\n",
    "\n",
    "from IPython.core.interactiveshell import InteractiveShell\n",
    "InteractiveShell.ast_node_interactivity = \"all\"\n",
    "\n",
    "#显示中文\n",
    "plt.rcParams['font.sans-serif']=['SimHei']\n",
    "plt.rcParams['axes.unicode_minus']=False"
   ]
  },
  {
   "cell_type": "markdown",
   "metadata": {},
   "source": [
    "## 读取数据"
   ]
  },
  {
   "cell_type": "code",
   "execution_count": 2,
   "metadata": {
    "ExecuteTime": {
     "end_time": "2020-01-07T10:44:21.175537Z",
     "start_time": "2020-01-07T10:44:18.659980Z"
    }
   },
   "outputs": [
    {
     "data": {
      "text/html": [
       "<div>\n",
       "<style scoped>\n",
       "    .dataframe tbody tr th:only-of-type {\n",
       "        vertical-align: middle;\n",
       "    }\n",
       "\n",
       "    .dataframe tbody tr th {\n",
       "        vertical-align: top;\n",
       "    }\n",
       "\n",
       "    .dataframe thead th {\n",
       "        text-align: right;\n",
       "    }\n",
       "</style>\n",
       "<table border=\"1\" class=\"dataframe\">\n",
       "  <thead>\n",
       "    <tr style=\"text-align: right;\">\n",
       "      <th></th>\n",
       "      <th>ID</th>\n",
       "      <th>area</th>\n",
       "      <th>rentType</th>\n",
       "      <th>houseType</th>\n",
       "      <th>houseFloor</th>\n",
       "      <th>totalFloor</th>\n",
       "      <th>houseToward</th>\n",
       "      <th>houseDecoration</th>\n",
       "      <th>communityName</th>\n",
       "      <th>city</th>\n",
       "      <th>...</th>\n",
       "      <th>landMeanPrice</th>\n",
       "      <th>totalWorkers</th>\n",
       "      <th>newWorkers</th>\n",
       "      <th>residentPopulation</th>\n",
       "      <th>pv</th>\n",
       "      <th>uv</th>\n",
       "      <th>lookNum</th>\n",
       "      <th>tradeTime</th>\n",
       "      <th>tradeMoney</th>\n",
       "      <th>Type</th>\n",
       "    </tr>\n",
       "  </thead>\n",
       "  <tbody>\n",
       "    <tr>\n",
       "      <th>0</th>\n",
       "      <td>100309852</td>\n",
       "      <td>68.06</td>\n",
       "      <td>未知方式</td>\n",
       "      <td>2室1厅1卫</td>\n",
       "      <td>低</td>\n",
       "      <td>16</td>\n",
       "      <td>暂无数据</td>\n",
       "      <td>其他</td>\n",
       "      <td>XQ00051</td>\n",
       "      <td>SH</td>\n",
       "      <td>...</td>\n",
       "      <td>0.0000</td>\n",
       "      <td>28248</td>\n",
       "      <td>614</td>\n",
       "      <td>111546</td>\n",
       "      <td>1124.0</td>\n",
       "      <td>284.0</td>\n",
       "      <td>0</td>\n",
       "      <td>2018/11/28</td>\n",
       "      <td>2000.0</td>\n",
       "      <td>Train</td>\n",
       "    </tr>\n",
       "    <tr>\n",
       "      <th>1</th>\n",
       "      <td>100307942</td>\n",
       "      <td>125.55</td>\n",
       "      <td>未知方式</td>\n",
       "      <td>3室2厅2卫</td>\n",
       "      <td>中</td>\n",
       "      <td>14</td>\n",
       "      <td>暂无数据</td>\n",
       "      <td>简装</td>\n",
       "      <td>XQ00130</td>\n",
       "      <td>SH</td>\n",
       "      <td>...</td>\n",
       "      <td>0.0000</td>\n",
       "      <td>14823</td>\n",
       "      <td>148</td>\n",
       "      <td>157552</td>\n",
       "      <td>701.0</td>\n",
       "      <td>22.0</td>\n",
       "      <td>1</td>\n",
       "      <td>2018/12/16</td>\n",
       "      <td>2000.0</td>\n",
       "      <td>Train</td>\n",
       "    </tr>\n",
       "    <tr>\n",
       "      <th>2</th>\n",
       "      <td>100307764</td>\n",
       "      <td>132.00</td>\n",
       "      <td>未知方式</td>\n",
       "      <td>3室2厅2卫</td>\n",
       "      <td>低</td>\n",
       "      <td>32</td>\n",
       "      <td>暂无数据</td>\n",
       "      <td>其他</td>\n",
       "      <td>XQ00179</td>\n",
       "      <td>SH</td>\n",
       "      <td>...</td>\n",
       "      <td>0.0000</td>\n",
       "      <td>77645</td>\n",
       "      <td>520</td>\n",
       "      <td>131744</td>\n",
       "      <td>57.0</td>\n",
       "      <td>20.0</td>\n",
       "      <td>1</td>\n",
       "      <td>2018/12/22</td>\n",
       "      <td>16000.0</td>\n",
       "      <td>Train</td>\n",
       "    </tr>\n",
       "    <tr>\n",
       "      <th>3</th>\n",
       "      <td>100306518</td>\n",
       "      <td>57.00</td>\n",
       "      <td>未知方式</td>\n",
       "      <td>1室1厅1卫</td>\n",
       "      <td>中</td>\n",
       "      <td>17</td>\n",
       "      <td>暂无数据</td>\n",
       "      <td>精装</td>\n",
       "      <td>XQ00313</td>\n",
       "      <td>SH</td>\n",
       "      <td>...</td>\n",
       "      <td>3080.0331</td>\n",
       "      <td>8750</td>\n",
       "      <td>1665</td>\n",
       "      <td>253337</td>\n",
       "      <td>888.0</td>\n",
       "      <td>279.0</td>\n",
       "      <td>9</td>\n",
       "      <td>2018/12/21</td>\n",
       "      <td>1600.0</td>\n",
       "      <td>Train</td>\n",
       "    </tr>\n",
       "    <tr>\n",
       "      <th>4</th>\n",
       "      <td>100305262</td>\n",
       "      <td>129.00</td>\n",
       "      <td>未知方式</td>\n",
       "      <td>3室2厅3卫</td>\n",
       "      <td>低</td>\n",
       "      <td>2</td>\n",
       "      <td>暂无数据</td>\n",
       "      <td>毛坯</td>\n",
       "      <td>XQ01257</td>\n",
       "      <td>SH</td>\n",
       "      <td>...</td>\n",
       "      <td>0.0000</td>\n",
       "      <td>800</td>\n",
       "      <td>117</td>\n",
       "      <td>125309</td>\n",
       "      <td>2038.0</td>\n",
       "      <td>480.0</td>\n",
       "      <td>0</td>\n",
       "      <td>2018/11/18</td>\n",
       "      <td>2900.0</td>\n",
       "      <td>Train</td>\n",
       "    </tr>\n",
       "  </tbody>\n",
       "</table>\n",
       "<p>5 rows × 52 columns</p>\n",
       "</div>"
      ],
      "text/plain": [
       "          ID    area rentType houseType houseFloor  totalFloor houseToward  \\\n",
       "0  100309852   68.06     未知方式    2室1厅1卫          低          16        暂无数据   \n",
       "1  100307942  125.55     未知方式    3室2厅2卫          中          14        暂无数据   \n",
       "2  100307764  132.00     未知方式    3室2厅2卫          低          32        暂无数据   \n",
       "3  100306518   57.00     未知方式    1室1厅1卫          中          17        暂无数据   \n",
       "4  100305262  129.00     未知方式    3室2厅3卫          低           2        暂无数据   \n",
       "\n",
       "  houseDecoration communityName city  ...   landMeanPrice totalWorkers  \\\n",
       "0              其他       XQ00051   SH  ...          0.0000        28248   \n",
       "1              简装       XQ00130   SH  ...          0.0000        14823   \n",
       "2              其他       XQ00179   SH  ...          0.0000        77645   \n",
       "3              精装       XQ00313   SH  ...       3080.0331         8750   \n",
       "4              毛坯       XQ01257   SH  ...          0.0000          800   \n",
       "\n",
       "  newWorkers  residentPopulation      pv     uv  lookNum   tradeTime  \\\n",
       "0        614              111546  1124.0  284.0        0  2018/11/28   \n",
       "1        148              157552   701.0   22.0        1  2018/12/16   \n",
       "2        520              131744    57.0   20.0        1  2018/12/22   \n",
       "3       1665              253337   888.0  279.0        9  2018/12/21   \n",
       "4        117              125309  2038.0  480.0        0  2018/11/18   \n",
       "\n",
       "   tradeMoney   Type  \n",
       "0      2000.0  Train  \n",
       "1      2000.0  Train  \n",
       "2     16000.0  Train  \n",
       "3      1600.0  Train  \n",
       "4      2900.0  Train  \n",
       "\n",
       "[5 rows x 52 columns]"
      ]
     },
     "execution_count": 2,
     "metadata": {},
     "output_type": "execute_result"
    }
   ],
   "source": [
    "#载入数据\n",
    "data_train = pd.read_csv('./train_data.csv')\n",
    "data_train['Type'] = 'Train'\n",
    "data_train.head(5)\n",
    "\n",
    "data_test = pd.read_csv('./test_a.csv')\n",
    "data_test['Type'] = 'Test'\n",
    "# data_test.head(5)\n",
    "data_all = pd.concat([data_train, data_test], ignore_index=True)\n",
    "\n",
    "# drop the 'Id' colum since it's unnecessary for the prediction process\n",
    "# y_train = train['月租金']\n",
    "# data_test.drop(\"ID\", axis = 1, inplace = True)"
   ]
  },
  {
   "cell_type": "markdown",
   "metadata": {},
   "source": [
    "## 数据分析"
   ]
  },
  {
   "cell_type": "code",
   "execution_count": 3,
   "metadata": {
    "ExecuteTime": {
     "end_time": "2020-01-07T10:44:21.679248Z",
     "start_time": "2020-01-07T10:44:21.188537Z"
    }
   },
   "outputs": [
    {
     "data": {
      "text/html": [
       "<div>\n",
       "<style scoped>\n",
       "    .dataframe tbody tr th:only-of-type {\n",
       "        vertical-align: middle;\n",
       "    }\n",
       "\n",
       "    .dataframe tbody tr th {\n",
       "        vertical-align: top;\n",
       "    }\n",
       "\n",
       "    .dataframe thead th {\n",
       "        text-align: right;\n",
       "    }\n",
       "</style>\n",
       "<table border=\"1\" class=\"dataframe\">\n",
       "  <thead>\n",
       "    <tr style=\"text-align: right;\">\n",
       "      <th></th>\n",
       "      <th>ID</th>\n",
       "      <th>area</th>\n",
       "      <th>totalFloor</th>\n",
       "      <th>saleSecHouseNum</th>\n",
       "      <th>subwayStationNum</th>\n",
       "      <th>busStationNum</th>\n",
       "      <th>interSchoolNum</th>\n",
       "      <th>schoolNum</th>\n",
       "      <th>privateSchoolNum</th>\n",
       "      <th>hospitalNum</th>\n",
       "      <th>...</th>\n",
       "      <th>tradeLandArea</th>\n",
       "      <th>landTotalPrice</th>\n",
       "      <th>landMeanPrice</th>\n",
       "      <th>totalWorkers</th>\n",
       "      <th>newWorkers</th>\n",
       "      <th>residentPopulation</th>\n",
       "      <th>pv</th>\n",
       "      <th>uv</th>\n",
       "      <th>lookNum</th>\n",
       "      <th>tradeMoney</th>\n",
       "    </tr>\n",
       "  </thead>\n",
       "  <tbody>\n",
       "    <tr>\n",
       "      <th>count</th>\n",
       "      <td>4.144000e+04</td>\n",
       "      <td>41440.000000</td>\n",
       "      <td>41440.000000</td>\n",
       "      <td>41440.000000</td>\n",
       "      <td>41440.000000</td>\n",
       "      <td>41440.000000</td>\n",
       "      <td>41440.000000</td>\n",
       "      <td>41440.000000</td>\n",
       "      <td>41440.000000</td>\n",
       "      <td>41440.000000</td>\n",
       "      <td>...</td>\n",
       "      <td>41440.000000</td>\n",
       "      <td>4.144000e+04</td>\n",
       "      <td>41440.000000</td>\n",
       "      <td>41440.000000</td>\n",
       "      <td>41440.000000</td>\n",
       "      <td>41440.000000</td>\n",
       "      <td>41422.000000</td>\n",
       "      <td>41422.000000</td>\n",
       "      <td>41440.000000</td>\n",
       "      <td>4.144000e+04</td>\n",
       "    </tr>\n",
       "    <tr>\n",
       "      <th>mean</th>\n",
       "      <td>1.001221e+08</td>\n",
       "      <td>70.959409</td>\n",
       "      <td>11.413152</td>\n",
       "      <td>1.338538</td>\n",
       "      <td>5.741192</td>\n",
       "      <td>187.197153</td>\n",
       "      <td>1.506395</td>\n",
       "      <td>48.228813</td>\n",
       "      <td>6.271911</td>\n",
       "      <td>4.308736</td>\n",
       "      <td>...</td>\n",
       "      <td>12621.406425</td>\n",
       "      <td>1.045363e+08</td>\n",
       "      <td>724.763918</td>\n",
       "      <td>77250.235497</td>\n",
       "      <td>1137.132095</td>\n",
       "      <td>294514.059459</td>\n",
       "      <td>26945.663512</td>\n",
       "      <td>3089.077085</td>\n",
       "      <td>0.396260</td>\n",
       "      <td>8.837074e+03</td>\n",
       "    </tr>\n",
       "    <tr>\n",
       "      <th>std</th>\n",
       "      <td>9.376566e+04</td>\n",
       "      <td>88.119569</td>\n",
       "      <td>7.375203</td>\n",
       "      <td>3.180349</td>\n",
       "      <td>4.604929</td>\n",
       "      <td>179.674625</td>\n",
       "      <td>1.687631</td>\n",
       "      <td>29.568448</td>\n",
       "      <td>4.946457</td>\n",
       "      <td>3.359714</td>\n",
       "      <td>...</td>\n",
       "      <td>49853.120341</td>\n",
       "      <td>5.215216e+08</td>\n",
       "      <td>3224.303831</td>\n",
       "      <td>132052.508523</td>\n",
       "      <td>7667.381627</td>\n",
       "      <td>196745.147181</td>\n",
       "      <td>32174.637924</td>\n",
       "      <td>2954.706517</td>\n",
       "      <td>1.653932</td>\n",
       "      <td>5.514287e+05</td>\n",
       "    </tr>\n",
       "    <tr>\n",
       "      <th>min</th>\n",
       "      <td>1.000000e+08</td>\n",
       "      <td>1.000000</td>\n",
       "      <td>0.000000</td>\n",
       "      <td>0.000000</td>\n",
       "      <td>0.000000</td>\n",
       "      <td>24.000000</td>\n",
       "      <td>0.000000</td>\n",
       "      <td>9.000000</td>\n",
       "      <td>0.000000</td>\n",
       "      <td>0.000000</td>\n",
       "      <td>...</td>\n",
       "      <td>0.000000</td>\n",
       "      <td>0.000000e+00</td>\n",
       "      <td>0.000000</td>\n",
       "      <td>600.000000</td>\n",
       "      <td>0.000000</td>\n",
       "      <td>49330.000000</td>\n",
       "      <td>17.000000</td>\n",
       "      <td>6.000000</td>\n",
       "      <td>0.000000</td>\n",
       "      <td>0.000000e+00</td>\n",
       "    </tr>\n",
       "    <tr>\n",
       "      <th>25%</th>\n",
       "      <td>1.000470e+08</td>\n",
       "      <td>42.607500</td>\n",
       "      <td>6.000000</td>\n",
       "      <td>0.000000</td>\n",
       "      <td>2.000000</td>\n",
       "      <td>74.000000</td>\n",
       "      <td>0.000000</td>\n",
       "      <td>24.000000</td>\n",
       "      <td>2.000000</td>\n",
       "      <td>1.000000</td>\n",
       "      <td>...</td>\n",
       "      <td>0.000000</td>\n",
       "      <td>0.000000e+00</td>\n",
       "      <td>0.000000</td>\n",
       "      <td>13983.000000</td>\n",
       "      <td>0.000000</td>\n",
       "      <td>165293.000000</td>\n",
       "      <td>7928.000000</td>\n",
       "      <td>1053.000000</td>\n",
       "      <td>0.000000</td>\n",
       "      <td>2.800000e+03</td>\n",
       "    </tr>\n",
       "    <tr>\n",
       "      <th>50%</th>\n",
       "      <td>1.000960e+08</td>\n",
       "      <td>65.000000</td>\n",
       "      <td>7.000000</td>\n",
       "      <td>0.000000</td>\n",
       "      <td>5.000000</td>\n",
       "      <td>128.000000</td>\n",
       "      <td>1.000000</td>\n",
       "      <td>47.000000</td>\n",
       "      <td>5.000000</td>\n",
       "      <td>4.000000</td>\n",
       "      <td>...</td>\n",
       "      <td>0.000000</td>\n",
       "      <td>0.000000e+00</td>\n",
       "      <td>0.000000</td>\n",
       "      <td>38947.000000</td>\n",
       "      <td>0.000000</td>\n",
       "      <td>245872.000000</td>\n",
       "      <td>20196.000000</td>\n",
       "      <td>2375.000000</td>\n",
       "      <td>0.000000</td>\n",
       "      <td>4.000000e+03</td>\n",
       "    </tr>\n",
       "    <tr>\n",
       "      <th>75%</th>\n",
       "      <td>1.001902e+08</td>\n",
       "      <td>90.000000</td>\n",
       "      <td>16.000000</td>\n",
       "      <td>1.000000</td>\n",
       "      <td>7.000000</td>\n",
       "      <td>258.000000</td>\n",
       "      <td>3.000000</td>\n",
       "      <td>61.000000</td>\n",
       "      <td>9.000000</td>\n",
       "      <td>6.000000</td>\n",
       "      <td>...</td>\n",
       "      <td>0.000000</td>\n",
       "      <td>0.000000e+00</td>\n",
       "      <td>0.000000</td>\n",
       "      <td>76668.000000</td>\n",
       "      <td>0.000000</td>\n",
       "      <td>330610.000000</td>\n",
       "      <td>34485.000000</td>\n",
       "      <td>4233.000000</td>\n",
       "      <td>0.000000</td>\n",
       "      <td>5.500000e+03</td>\n",
       "    </tr>\n",
       "    <tr>\n",
       "      <th>max</th>\n",
       "      <td>1.003218e+08</td>\n",
       "      <td>15055.000000</td>\n",
       "      <td>88.000000</td>\n",
       "      <td>52.000000</td>\n",
       "      <td>22.000000</td>\n",
       "      <td>824.000000</td>\n",
       "      <td>8.000000</td>\n",
       "      <td>142.000000</td>\n",
       "      <td>24.000000</td>\n",
       "      <td>14.000000</td>\n",
       "      <td>...</td>\n",
       "      <td>555508.010000</td>\n",
       "      <td>6.197570e+09</td>\n",
       "      <td>37513.062490</td>\n",
       "      <td>855400.000000</td>\n",
       "      <td>143700.000000</td>\n",
       "      <td>928198.000000</td>\n",
       "      <td>621864.000000</td>\n",
       "      <td>39876.000000</td>\n",
       "      <td>37.000000</td>\n",
       "      <td>1.000000e+08</td>\n",
       "    </tr>\n",
       "  </tbody>\n",
       "</table>\n",
       "<p>8 rows × 40 columns</p>\n",
       "</div>"
      ],
      "text/plain": [
       "                 ID          area    totalFloor  saleSecHouseNum  \\\n",
       "count  4.144000e+04  41440.000000  41440.000000     41440.000000   \n",
       "mean   1.001221e+08     70.959409     11.413152         1.338538   \n",
       "std    9.376566e+04     88.119569      7.375203         3.180349   \n",
       "min    1.000000e+08      1.000000      0.000000         0.000000   \n",
       "25%    1.000470e+08     42.607500      6.000000         0.000000   \n",
       "50%    1.000960e+08     65.000000      7.000000         0.000000   \n",
       "75%    1.001902e+08     90.000000     16.000000         1.000000   \n",
       "max    1.003218e+08  15055.000000     88.000000        52.000000   \n",
       "\n",
       "       subwayStationNum  busStationNum  interSchoolNum     schoolNum  \\\n",
       "count      41440.000000   41440.000000    41440.000000  41440.000000   \n",
       "mean           5.741192     187.197153        1.506395     48.228813   \n",
       "std            4.604929     179.674625        1.687631     29.568448   \n",
       "min            0.000000      24.000000        0.000000      9.000000   \n",
       "25%            2.000000      74.000000        0.000000     24.000000   \n",
       "50%            5.000000     128.000000        1.000000     47.000000   \n",
       "75%            7.000000     258.000000        3.000000     61.000000   \n",
       "max           22.000000     824.000000        8.000000    142.000000   \n",
       "\n",
       "       privateSchoolNum   hospitalNum      ...       tradeLandArea  \\\n",
       "count      41440.000000  41440.000000      ...        41440.000000   \n",
       "mean           6.271911      4.308736      ...        12621.406425   \n",
       "std            4.946457      3.359714      ...        49853.120341   \n",
       "min            0.000000      0.000000      ...            0.000000   \n",
       "25%            2.000000      1.000000      ...            0.000000   \n",
       "50%            5.000000      4.000000      ...            0.000000   \n",
       "75%            9.000000      6.000000      ...            0.000000   \n",
       "max           24.000000     14.000000      ...       555508.010000   \n",
       "\n",
       "       landTotalPrice  landMeanPrice   totalWorkers     newWorkers  \\\n",
       "count    4.144000e+04   41440.000000   41440.000000   41440.000000   \n",
       "mean     1.045363e+08     724.763918   77250.235497    1137.132095   \n",
       "std      5.215216e+08    3224.303831  132052.508523    7667.381627   \n",
       "min      0.000000e+00       0.000000     600.000000       0.000000   \n",
       "25%      0.000000e+00       0.000000   13983.000000       0.000000   \n",
       "50%      0.000000e+00       0.000000   38947.000000       0.000000   \n",
       "75%      0.000000e+00       0.000000   76668.000000       0.000000   \n",
       "max      6.197570e+09   37513.062490  855400.000000  143700.000000   \n",
       "\n",
       "       residentPopulation             pv            uv       lookNum  \\\n",
       "count        41440.000000   41422.000000  41422.000000  41440.000000   \n",
       "mean        294514.059459   26945.663512   3089.077085      0.396260   \n",
       "std         196745.147181   32174.637924   2954.706517      1.653932   \n",
       "min          49330.000000      17.000000      6.000000      0.000000   \n",
       "25%         165293.000000    7928.000000   1053.000000      0.000000   \n",
       "50%         245872.000000   20196.000000   2375.000000      0.000000   \n",
       "75%         330610.000000   34485.000000   4233.000000      0.000000   \n",
       "max         928198.000000  621864.000000  39876.000000     37.000000   \n",
       "\n",
       "         tradeMoney  \n",
       "count  4.144000e+04  \n",
       "mean   8.837074e+03  \n",
       "std    5.514287e+05  \n",
       "min    0.000000e+00  \n",
       "25%    2.800000e+03  \n",
       "50%    4.000000e+03  \n",
       "75%    5.500000e+03  \n",
       "max    1.000000e+08  \n",
       "\n",
       "[8 rows x 40 columns]"
      ]
     },
     "execution_count": 3,
     "metadata": {},
     "output_type": "execute_result"
    }
   ],
   "source": [
    "# 总体情况\n",
    "# 0~41439：41440行，52列\n",
    "# 41440个，均值、方差、最小值、25%、50%、75%、最大值\n",
    "data_train.describe()\n",
    "# pd.DataFrame(data_train.info())"
   ]
  },
  {
   "cell_type": "markdown",
   "metadata": {},
   "source": [
    "## 缺失值分析"
   ]
  },
  {
   "cell_type": "code",
   "execution_count": 4,
   "metadata": {
    "ExecuteTime": {
     "end_time": "2020-01-07T10:44:21.925107Z",
     "start_time": "2020-01-07T10:44:21.686243Z"
    },
    "scrolled": true
   },
   "outputs": [
    {
     "data": {
      "text/html": [
       "<div>\n",
       "<style scoped>\n",
       "    .dataframe tbody tr th:only-of-type {\n",
       "        vertical-align: middle;\n",
       "    }\n",
       "\n",
       "    .dataframe tbody tr th {\n",
       "        vertical-align: top;\n",
       "    }\n",
       "\n",
       "    .dataframe thead th {\n",
       "        text-align: right;\n",
       "    }\n",
       "</style>\n",
       "<table border=\"1\" class=\"dataframe\">\n",
       "  <thead>\n",
       "    <tr style=\"text-align: right;\">\n",
       "      <th></th>\n",
       "      <th>missingNum</th>\n",
       "      <th>existNum</th>\n",
       "      <th>sum</th>\n",
       "      <th>missingRatio</th>\n",
       "      <th>dtype</th>\n",
       "    </tr>\n",
       "    <tr>\n",
       "      <th>index</th>\n",
       "      <th></th>\n",
       "      <th></th>\n",
       "      <th></th>\n",
       "      <th></th>\n",
       "      <th></th>\n",
       "    </tr>\n",
       "  </thead>\n",
       "  <tbody>\n",
       "    <tr>\n",
       "      <th>pv</th>\n",
       "      <td>18</td>\n",
       "      <td>41422</td>\n",
       "      <td>41440</td>\n",
       "      <td>0.043436</td>\n",
       "      <td>float64</td>\n",
       "    </tr>\n",
       "    <tr>\n",
       "      <th>uv</th>\n",
       "      <td>18</td>\n",
       "      <td>41422</td>\n",
       "      <td>41440</td>\n",
       "      <td>0.043436</td>\n",
       "      <td>float64</td>\n",
       "    </tr>\n",
       "  </tbody>\n",
       "</table>\n",
       "</div>"
      ],
      "text/plain": [
       "       missingNum  existNum    sum  missingRatio    dtype\n",
       "index                                                    \n",
       "pv             18     41422  41440      0.043436  float64\n",
       "uv             18     41422  41440      0.043436  float64"
      ]
     },
     "execution_count": 4,
     "metadata": {},
     "output_type": "execute_result"
    }
   ],
   "source": [
    "# 缺失值分析\n",
    "def missing_values(df):\n",
    "    alldata_na = pd.DataFrame(df.isnull().sum(), columns={'missingNum'})\n",
    "    alldata_na['existNum'] = len(df) - alldata_na['missingNum']\n",
    "    alldata_na['sum'] = len(df)\n",
    "    alldata_na['missingRatio'] = alldata_na['missingNum']/len(df)*100\n",
    "    alldata_na['dtype'] = df.dtypes\n",
    "    #ascending：默认True升序排列；False降序排列\n",
    "    alldata_na = alldata_na[alldata_na['missingNum']>0].reset_index().sort_values(by=['missingNum','index'],ascending=[False,True])\n",
    "    alldata_na.set_index('index',inplace=True)\n",
    "    return alldata_na\n",
    "\n",
    "missing_values(data_train)"
   ]
  },
  {
   "cell_type": "markdown",
   "metadata": {},
   "source": [
    "仅有pv、uv存在缺失值，后面再探究会发现缺失的都是属于同一个plate，可能是官方直接删除了该plate的pv、uv"
   ]
  },
  {
   "cell_type": "markdown",
   "metadata": {},
   "source": [
    "## 单调特征列分析"
   ]
  },
  {
   "cell_type": "code",
   "execution_count": 5,
   "metadata": {
    "ExecuteTime": {
     "end_time": "2020-01-07T10:44:23.836127Z",
     "start_time": "2020-01-07T10:44:21.930104Z"
    }
   },
   "outputs": [
    {
     "name": "stdout",
     "output_type": "stream",
     "text": [
      "fea_cols: ['ID', 'area', 'rentType', 'houseType', 'houseFloor', 'totalFloor', 'houseToward', 'houseDecoration', 'communityName', 'city', 'region', 'plate', 'buildYear', 'saleSecHouseNum', 'subwayStationNum', 'busStationNum', 'interSchoolNum', 'schoolNum', 'privateSchoolNum', 'hospitalNum', 'drugStoreNum', 'gymNum', 'bankNum', 'shopNum', 'parkNum', 'mallNum', 'superMarketNum', 'totalTradeMoney', 'totalTradeArea', 'tradeMeanPrice', 'tradeSecNum', 'totalNewTradeMoney', 'totalNewTradeArea', 'tradeNewMeanPrice', 'tradeNewNum', 'remainNewNum', 'supplyNewNum', 'supplyLandNum', 'supplyLandArea', 'tradeLandNum', 'tradeLandArea', 'landTotalPrice', 'landMeanPrice', 'totalWorkers', 'newWorkers', 'residentPopulation', 'pv', 'uv', 'lookNum', 'tradeTime', 'tradeMoney', 'Type']\n",
      "单调特征： tradeTime\n",
      "单调特征值个数： 24085\n",
      "单调特征值比例： 0.5812017374517374\n"
     ]
    }
   ],
   "source": [
    "#是否有单调特征列(单调的特征列很大可能是时间)\n",
    "def increasing(vals):\n",
    "    cnt = 0\n",
    "    len_ = len(vals)\n",
    "    for i in range(len_-1):\n",
    "        if vals[i+1] > vals[i]:\n",
    "            cnt += 1\n",
    "    return cnt\n",
    "\n",
    "fea_cols = [col for col in data_train.columns]\n",
    "print('fea_cols:', fea_cols)\n",
    "for col in fea_cols:\n",
    "    cnt = increasing(data_train[col].values)\n",
    "    if cnt / data_train.shape[0] >= 0.55:\n",
    "        print('单调特征：',col)\n",
    "        print('单调特征值个数：', cnt)\n",
    "        print('单调特征值比例：', cnt / data_train.shape[0])\n",
    "# print(data_train['tradeTime'])\n",
    "# print(data_train.shape[0])"
   ]
  },
  {
   "cell_type": "markdown",
   "metadata": {},
   "source": [
    "# 数据分布"
   ]
  },
  {
   "cell_type": "markdown",
   "metadata": {},
   "source": [
    "## 分类特征和连续型特征"
   ]
  },
  {
   "cell_type": "code",
   "execution_count": 6,
   "metadata": {
    "ExecuteTime": {
     "end_time": "2020-01-07T10:44:23.852115Z",
     "start_time": "2020-01-07T10:44:23.840122Z"
    }
   },
   "outputs": [],
   "source": [
    "# 根据特征含义和特征一览，大致可以判断出数值型和类别型特征如下\n",
    "categorical_feas = ['rentType', 'houseType', 'houseFloor', 'region', 'plate', 'houseToward', 'houseDecoration',\n",
    "    'communityName','city','region','plate','buildYear']\n",
    "numerical_feas=['ID','area','totalFloor','saleSecHouseNum','subwayStationNum',\n",
    "    'busStationNum','interSchoolNum','schoolNum','privateSchoolNum','hospitalNum',\n",
    "    'drugStoreNum','gymNum','bankNum','shopNum','parkNum','mallNum','superMarketNum',\n",
    "    'totalTradeMoney','totalTradeArea','tradeMeanPrice','tradeSecNum','totalNewTradeMoney',\n",
    "    'totalNewTradeArea','tradeNewMeanPrice','tradeNewNum','remainNewNum','supplyNewNum',\n",
    "    'supplyLandNum','supplyLandArea','tradeLandNum','tradeLandArea','landTotalPrice',\n",
    "    'landMeanPrice','totalWorkers','newWorkers','residentPopulation','pv','uv','lookNum']"
   ]
  },
  {
   "cell_type": "markdown",
   "metadata": {},
   "source": [
    "## 特征分布"
   ]
  },
  {
   "cell_type": "code",
   "execution_count": null,
   "metadata": {
    "ExecuteTime": {
     "start_time": "2020-01-07T10:44:15.881Z"
    }
   },
   "outputs": [
    {
     "name": "stdout",
     "output_type": "stream",
     "text": [
      "rentType的特征分布如下：\n",
      "未知方式    32944\n",
      "整租       5736\n",
      "合租       5224\n",
      "--          5\n",
      "Name: rentType, dtype: int64\n",
      "feature type: 4\n"
     ]
    }
   ],
   "source": [
    "#-*- coding: utf-8 -*-\n",
    "import matplotlib.pyplot as plt  \n",
    "plt.rcParams['font.sans-serif'] = [u'SimHei']\n",
    "plt.rcParams['axes.unicode_minus'] = False\n",
    "# 特征nunique分布\n",
    "for feature in categorical_feas:\n",
    "    print(feature + \"的特征分布如下：\")\n",
    "    print(data_all[feature].value_counts())\n",
    "    fea_type = data_all[feature].value_counts().shape[0]\n",
    "    print('feature type:', fea_type)\n",
    "    if feature != 'communityName': # communityName值太多，暂且不看图表\n",
    "#         plt.figure(figsize=(15, 3))\n",
    "#         plt.subplot(1, 2, 2)\n",
    "        plt.hist(data_all[feature], bins=fea_type)\n",
    "        plt.show()"
   ]
  },
  {
   "cell_type": "markdown",
   "metadata": {},
   "source": [
    "### 小区名字"
   ]
  },
  {
   "cell_type": "code",
   "execution_count": null,
   "metadata": {
    "ExecuteTime": {
     "start_time": "2020-01-07T10:44:15.893Z"
    }
   },
   "outputs": [],
   "source": [
    "print(data_train['communityName'].value_counts())\n",
    "print(data_test['communityName'].value_counts())"
   ]
  },
  {
   "cell_type": "code",
   "execution_count": null,
   "metadata": {
    "ExecuteTime": {
     "start_time": "2020-01-07T10:44:15.896Z"
    }
   },
   "outputs": [],
   "source": [
    "train_communityName = set(data_train.loc[:,'communityName'].unique())\n",
    "test_communityName = set(data_test.loc[:,'communityName'].unique())\n",
    "train_unique = train_communityName - (train_communityName & test_communityName)\n",
    "test_unique = test_communityName - (train_communityName & test_communityName)\n",
    "\n",
    "print('训练集独有小区数：{}'.format(len(train_unique)))\n",
    "print('测试集独有小区数：{}'.format(len(test_unique)))\n",
    "\n",
    "plt.clf()\n",
    "plt.figsize=(13,4)\n",
    "plt.hist(data_train.dropna().loc[:,'communityName'],bins=100,edgecolor='black',alpha=0.5)\n",
    "plt.show()\n"
   ]
  },
  {
   "cell_type": "markdown",
   "metadata": {},
   "source": [
    "### 楼层"
   ]
  },
  {
   "cell_type": "code",
   "execution_count": null,
   "metadata": {
    "ExecuteTime": {
     "start_time": "2020-01-07T10:44:15.909Z"
    }
   },
   "outputs": [],
   "source": [
    "print(data_train.loc[:,'houseFloor'].value_counts())\n",
    "plt.clf()\n",
    "fig,axs=plt.subplots(1,2)\n",
    "axs[0].pie(data_train.loc[:,'houseFloor'].value_counts().values,\n",
    "        labels=data_train.loc[:,'houseFloor'].value_counts().index,\n",
    "        autopct='%1.1f%%')\n",
    "axs[1].pie(data_test.loc[:,'houseFloor'].value_counts().values,\n",
    "        labels=data_test.loc[:,'houseFloor'].value_counts().index,\n",
    "        autopct='%1.1f%%')\n",
    "plt.show()\n"
   ]
  },
  {
   "cell_type": "markdown",
   "metadata": {},
   "source": [
    "### 朝向"
   ]
  },
  {
   "cell_type": "code",
   "execution_count": null,
   "metadata": {
    "ExecuteTime": {
     "start_time": "2020-01-07T10:44:15.918Z"
    }
   },
   "outputs": [],
   "source": [
    "# print(len(train_df.loc[:,'RoomDir'].value_counts()))        # 64种不同字符串\n",
    "# print(len(test_df.loc[:,'RoomDir'].value_counts()))        # 54种不同字符串\n",
    "train_houseFloor=set(data_train.loc[:,'houseToward'].unique())\n",
    "test_houseFloor=set(data_test.loc[:,'houseToward'].unique())\n",
    "train_unique=train_houseFloor-(train_houseFloor&test_houseFloor)\n",
    "test_unique=test_houseFloor-(train_houseFloor&test_houseFloor)\n",
    "\n",
    "print('训练集独有朝向：{}'.format(train_unique))\n",
    "print('测试集独有朝向：{}'.format(test_unique))\n",
    "\n",
    "plt.clf()\n",
    "fig,axs=plt.subplots(2,1,figsize=(15,6),sharex=True)\n",
    "axs[0].bar(x=data_train.loc[:,'houseToward'].value_counts().index,height=data_train.loc[:,'houseToward'].value_counts().values)\n",
    "axs[1].bar(x=data_test.loc[:,'houseToward'].value_counts().index,height=data_test.loc[:,'houseToward'].value_counts().values)\n",
    "plt.xticks(rotation='90')\n",
    "plt.show()\n"
   ]
  },
  {
   "cell_type": "markdown",
   "metadata": {},
   "source": [
    "## 统计特征值频次大于100的特征"
   ]
  },
  {
   "cell_type": "code",
   "execution_count": null,
   "metadata": {
    "ExecuteTime": {
     "start_time": "2020-01-07T10:44:15.929Z"
    }
   },
   "outputs": [],
   "source": [
    "# 统计特征值出现频次大于100的特征\n",
    "for feature in categorical_feas:\n",
    "    df_value_counts = pd.DataFrame(data_train[feature].value_counts())\n",
    "    df_value_counts = df_value_counts.reset_index()\n",
    "    df_value_counts.columns = [feature, 'counts'] # change column names\n",
    "\n",
    "    df_value_counts = df_value_counts[df_value_counts['counts'] >= 100]\n",
    "    fea_type = df_value_counts.shape[0]\n",
    "    \n",
    "    print(df_value_counts)\n",
    "    print('feature type:', fea_type)\n",
    "    if feature != 'communityName': \n",
    "        plt.figure(figsize=(16, 8))\n",
    "        plt.subplot(1, 2, 1)\n",
    "        plt.title('{}特征值频次大于100的特征'.format(feature))\n",
    "        data_all[feature].value_counts().plot(kind='pie', autopct='%1.1f%%')\n",
    "\n",
    "        plt.subplot(1, 2, 2)\n",
    "        plt.title('{}特征值频次大于100的特征'.format(feature))\n",
    "        plt.hist(data_train[feature], bins=fea_type)\n",
    "        plt.show()"
   ]
  },
  {
   "cell_type": "markdown",
   "metadata": {},
   "source": [
    "## 统计描述\n",
    "### 相关性分析"
   ]
  },
  {
   "cell_type": "code",
   "execution_count": null,
   "metadata": {
    "ExecuteTime": {
     "start_time": "2020-01-07T10:44:15.940Z"
    },
    "scrolled": true
   },
   "outputs": [],
   "source": [
    "corr = data_train.corr()\n",
    "# print(corr)\n",
    "# sns.pairplot(corr) \n",
    "f, ax = plt.subplots(figsize=(12, 9))\n",
    "sns.heatmap(corr, vmax=.8, square=True,annot=True);\n"
   ]
  },
  {
   "cell_type": "markdown",
   "metadata": {},
   "source": [
    "InterSchoolNum: busStationNum\n",
    "schoolNum: subwayStationNum、InterSchoolNum\n",
    "privateSchoolNum: subwayStationNum、schoolNum\n",
    "hospitalNum: busStationNum、schoolNum\n",
    "drugStoreNum: busStationNum、hospitalNum、schoolNum\n",
    "residentPopulation: \n",
    "pv、uv\n"
   ]
  },
  {
   "cell_type": "markdown",
   "metadata": {},
   "source": [
    "### 两两属性的相关性图"
   ]
  },
  {
   "cell_type": "code",
   "execution_count": null,
   "metadata": {
    "ExecuteTime": {
     "start_time": "2020-01-07T10:44:15.952Z"
    },
    "scrolled": true
   },
   "outputs": [],
   "source": [
    "# numerical_feas\n",
    "sns.jointplot(x = 'residentPopulation', y = 'drugStoreNum', data = data_train ,kind = 'kde')\n",
    "sns.jointplot(x = 'residentPopulation', y = 'superMarketNum', data = data_train ,kind = 'kde')"
   ]
  },
  {
   "cell_type": "markdown",
   "metadata": {},
   "source": [
    "## Label分布"
   ]
  },
  {
   "cell_type": "code",
   "execution_count": null,
   "metadata": {
    "ExecuteTime": {
     "start_time": "2020-01-07T10:44:15.961Z"
    }
   },
   "outputs": [],
   "source": [
    "# Labe 分布\n",
    "print(data_train['tradeMoney'].describe())\n",
    "\n",
    "fig,axes = plt.subplots(2,3,figsize=(20,12))\n",
    "# fig.set_size_inches(18,14)\n",
    "sns.distplot(data_train['tradeMoney'],ax=axes[0][0])\n",
    "sns.distplot(data_train[(data_train['tradeMoney']<=20000)]['tradeMoney'],ax=axes[0][1])\n",
    "sns.distplot(data_train[(data_train['tradeMoney']>20000)&(data_train['tradeMoney']<=50000)]['tradeMoney'],ax=axes[0][2])\n",
    "sns.distplot(data_train[(data_train['tradeMoney']>50000)&(data_train['tradeMoney']<=100000)]['tradeMoney'],ax=axes[1][0])\n",
    "sns.distplot(data_train[(data_train['tradeMoney']>100000)]['tradeMoney'],ax=axes[1][1])"
   ]
  },
  {
   "cell_type": "code",
   "execution_count": null,
   "metadata": {
    "ExecuteTime": {
     "start_time": "2020-01-07T10:44:15.964Z"
    }
   },
   "outputs": [],
   "source": [
    "print(\"money<=10000:\",len(data_train[(data_train['tradeMoney']<=10000)]['tradeMoney']))\n",
    "print(\"10000<money<=20000:\",len(data_train[(data_train['tradeMoney']>10000)&(data_train['tradeMoney']<=20000)]['tradeMoney']))\n",
    "print(\"20000<money<=50000:\",len(data_train[(data_train['tradeMoney']>20000)&(data_train['tradeMoney']<=50000)]['tradeMoney']))\n",
    "print(\"50000<money<=100000:\",len(data_train[(data_train['tradeMoney']>50000)&(data_train['tradeMoney']<=100000)]['tradeMoney']))\n",
    "print(\"100000<money:\",len(data_train[(data_train['tradeMoney']>100000)]['tradeMoney']))"
   ]
  }
 ],
 "metadata": {
  "hide_input": false,
  "kernelspec": {
   "display_name": "Python 3",
   "language": "python",
   "name": "python3"
  },
  "language_info": {
   "codemirror_mode": {
    "name": "ipython",
    "version": 3
   },
   "file_extension": ".py",
   "mimetype": "text/x-python",
   "name": "python",
   "nbconvert_exporter": "python",
   "pygments_lexer": "ipython3",
   "version": "3.7.0"
  },
  "toc": {
   "base_numbering": 1,
   "nav_menu": {},
   "number_sections": false,
   "sideBar": true,
   "skip_h1_title": false,
   "title_cell": "Table of Contents",
   "title_sidebar": "Contents",
   "toc_cell": false,
   "toc_position": {
    "height": "calc(100% - 180px)",
    "left": "10px",
    "top": "150px",
    "width": "307.2px"
   },
   "toc_section_display": true,
   "toc_window_display": true
  },
  "varInspector": {
   "cols": {
    "lenName": 16,
    "lenType": 16,
    "lenVar": 40
   },
   "kernels_config": {
    "python": {
     "delete_cmd_postfix": "",
     "delete_cmd_prefix": "del ",
     "library": "var_list.py",
     "varRefreshCmd": "print(var_dic_list())"
    },
    "r": {
     "delete_cmd_postfix": ") ",
     "delete_cmd_prefix": "rm(",
     "library": "var_list.r",
     "varRefreshCmd": "cat(var_dic_list()) "
    }
   },
   "types_to_exclude": [
    "module",
    "function",
    "builtin_function_or_method",
    "instance",
    "_Feature"
   ],
   "window_display": false
  }
 },
 "nbformat": 4,
 "nbformat_minor": 4
}
